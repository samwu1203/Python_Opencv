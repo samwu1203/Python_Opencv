{
 "cells": [
  {
   "cell_type": "code",
   "execution_count": 1,
   "metadata": {
    "collapsed": false
   },
   "outputs": [],
   "source": [
    "import cv2\n",
    "import numpy as np\n",
    "from matplotlib import pyplot as plt\n",
    "\n",
    "img = cv2.imread('moria2.jpg')\n",
    "img = img[:,:,::-1]\n",
    "\n",
    "median = cv2.medianBlur(img,9)\n",
    "\n",
    "plt.subplot(121),plt.imshow(img),plt.title('Original')\n",
    "plt.xticks([]), plt.yticks([])\n",
    "plt.subplot(122),plt.imshow(median),plt.title('median')\n",
    "plt.xticks([]), plt.yticks([])\n",
    "plt.show()"
   ]
  },
  {
   "cell_type": "code",
   "execution_count": 2,
   "metadata": {
    "collapsed": false
   },
   "outputs": [],
   "source": [
    "import cv2\n",
    "import numpy as np\n",
    "from matplotlib import pyplot as plt\n",
    "img = cv2.imread('moria2.jpg')\n",
    "median = cv2.medianBlur(img,9)\n",
    "Gauss = cv2.GaussianBlur(img,(9,9),0)\n",
    "blur = cv2.blur(img,(3,3))\n",
    "laplacian = cv2.Laplacian(img,cv2.CV_64F)\n",
    "cv2.namedWindow('img', cv2.WINDOW_NORMAL)\n",
    "cv2.namedWindow('median', cv2.WINDOW_NORMAL)\n",
    "cv2.namedWindow('Gauss', cv2.WINDOW_NORMAL)\n",
    "cv2.namedWindow('Lap', cv2.WINDOW_NORMAL)\n",
    "cv2.namedWindow('blur', cv2.WINDOW_NORMAL)\n",
    "cv2.imshow('img',img)\n",
    "cv2.imshow('median',median)\n",
    "cv2.imshow('Gauss',Gauss)\n",
    "cv2.imshow('Lap',laplacian)\n",
    "cv2.imshow('blur',blur)\n",
    "if cv2.waitKey(0):\n",
    "    cv2.destroyAllWindows()"
   ]
  },
  {
   "cell_type": "code",
   "execution_count": 4,
   "metadata": {
    "collapsed": false
   },
   "outputs": [],
   "source": [
    "import cv2\n",
    "import numpy as np\n",
    "from matplotlib import pyplot as plt\n",
    "\n",
    "img = cv2.imread('moria2.jpg',0)\n",
    "f = np.fft.fft2(img)\n",
    "fshift = np.fft.fftshift(f)\n",
    "magnitude_spectrum = 20*np.log(np.abs(fshift))\n",
    "origin = 20*np.abs(fshift)\n",
    "\n",
    "plt.subplot(221),plt.imshow(img, cmap = 'gray')\n",
    "plt.title('Input Image'), plt.xticks([]), plt.yticks([])\n",
    "plt.subplot(222),plt.imshow(magnitude_spectrum, cmap = 'gray')\n",
    "plt.title('Magnitude Spectrum'), plt.xticks([]), plt.yticks([])\n",
    "plt.subplot(223),plt.imshow(origin, cmap = 'gray')\n",
    "plt.title('origin'), plt.xticks([]), plt.yticks([])\n",
    "plt.show()"
   ]
  },
  {
   "cell_type": "code",
   "execution_count": 5,
   "metadata": {
    "collapsed": false
   },
   "outputs": [
    {
     "data": {
      "text/plain": [
       "(2160L, 2880L)"
      ]
     },
     "execution_count": 5,
     "metadata": {},
     "output_type": "execute_result"
    }
   ],
   "source": [
    "img.shape"
   ]
  },
  {
   "cell_type": "code",
   "execution_count": 6,
   "metadata": {
    "collapsed": false
   },
   "outputs": [
    {
     "data": {
      "text/plain": [
       "(2160L, 2880L)"
      ]
     },
     "execution_count": 6,
     "metadata": {},
     "output_type": "execute_result"
    }
   ],
   "source": [
    "f.shape"
   ]
  },
  {
   "cell_type": "code",
   "execution_count": 7,
   "metadata": {
    "collapsed": true
   },
   "outputs": [],
   "source": [
    "rows, cols = img.shape\n",
    "crow,ccol = rows/2 , cols/2\n",
    "fshift[crow-30:crow+30, ccol-30:ccol+30] = 0\n",
    "f_ishift = np.fft.ifftshift(fshift)\n",
    "img_back = np.fft.ifft2(f_ishift)\n",
    "img_back = np.abs(img_back)\n",
    "\n",
    "plt.subplot(131),plt.imshow(img, cmap = 'gray')\n",
    "plt.title('Input Image'), plt.xticks([]), plt.yticks([])\n",
    "plt.subplot(132),plt.imshow(img_back, cmap = 'gray')\n",
    "plt.title('Image after HPF'), plt.xticks([]), plt.yticks([])\n",
    "plt.subplot(133),plt.imshow(img_back, cmap = 'gray')\n",
    "plt.title('Result in JET'), plt.xticks([]), plt.yticks([])\n",
    "\n",
    "plt.show()"
   ]
  },
  {
   "cell_type": "code",
   "execution_count": 8,
   "metadata": {
    "collapsed": true
   },
   "outputs": [],
   "source": [
    "import numpy as np\n",
    "import cv2\n",
    "from matplotlib import pyplot as plt\n",
    "\n",
    "img = cv2.imread('moria.jpg',0)\n",
    "\n",
    "dft = cv2.dft(np.float32(img),flags = cv2.DFT_COMPLEX_OUTPUT)\n",
    "dft_shift = np.fft.fftshift(dft)\n",
    "\n",
    "magnitude_spectrum = 20*np.log(cv2.magnitude(dft_shift[:,:,0],dft_shift[:,:,1]))\n",
    "\n",
    "plt.subplot(121),plt.imshow(img, cmap = 'gray')\n",
    "plt.title('Input Image'), plt.xticks([]), plt.yticks([])\n",
    "plt.subplot(122),plt.imshow(magnitude_spectrum, cmap = 'gray')\n",
    "plt.title('Magnitude Spectrum'), plt.xticks([]), plt.yticks([])\n",
    "plt.show()"
   ]
  },
  {
   "cell_type": "code",
   "execution_count": 9,
   "metadata": {
    "collapsed": false
   },
   "outputs": [
    {
     "data": {
      "text/plain": [
       "(2160L, 2880L)"
      ]
     },
     "execution_count": 9,
     "metadata": {},
     "output_type": "execute_result"
    }
   ],
   "source": [
    "img.shape"
   ]
  },
  {
   "cell_type": "code",
   "execution_count": 10,
   "metadata": {
    "collapsed": false
   },
   "outputs": [
    {
     "data": {
      "text/plain": [
       "(2160L, 2880L, 2L)"
      ]
     },
     "execution_count": 10,
     "metadata": {},
     "output_type": "execute_result"
    }
   ],
   "source": [
    "dft.shape"
   ]
  },
  {
   "cell_type": "code",
   "execution_count": 11,
   "metadata": {
    "collapsed": false
   },
   "outputs": [
    {
     "data": {
      "text/plain": [
       "array([[  8.25057244e+08 +0.00000000e+00j,\n",
       "         -7.74818604e+06 +6.51589581e+07j,\n",
       "         -3.12036462e+06 +3.32268675e+07j, ...,\n",
       "         -1.75036059e+06 -2.01630255e+07j,\n",
       "         -3.12036462e+06 -3.32268675e+07j,\n",
       "         -7.74818604e+06 -6.51589581e+07j],\n",
       "       [ -3.11087230e+06 -5.06031607e+07j,\n",
       "          8.10306234e+06 -1.40437540e+06j,\n",
       "          5.72663542e+06 -6.55892707e+03j, ...,\n",
       "         -2.75187839e+06 +2.37416823e+05j,\n",
       "         -6.38785879e+06 +3.62929379e+06j,\n",
       "         -5.41471817e+06 +1.60972924e+06j],\n",
       "       [  8.17226842e+05 -2.62345905e+07j,\n",
       "          2.91895445e+06 +1.14908891e+06j,\n",
       "          2.59793979e+06 +7.18969630e+05j, ...,\n",
       "         -1.53010970e+06 -2.31935272e+05j,\n",
       "         -2.21480756e+06 +1.60655158e+06j,\n",
       "         -4.25316537e+06 +7.32164795e+04j],\n",
       "       ..., \n",
       "       [ -5.13949961e+03 +1.76298173e+07j,\n",
       "         -1.93966715e+06 -1.18227241e+06j,\n",
       "         -1.98563136e+06 -4.74391063e+05j, ...,\n",
       "          8.12538555e+04 +1.90020322e+05j,\n",
       "          1.99481031e+06 -1.36933303e+06j,\n",
       "          2.06605671e+06 -1.57591442e+05j],\n",
       "       [  8.17226842e+05 +2.62345905e+07j,\n",
       "         -4.25316537e+06 -7.32164795e+04j,\n",
       "         -2.21480756e+06 -1.60655158e+06j, ...,\n",
       "          8.39702462e+05 +1.12372862e+06j,\n",
       "          2.59793979e+06 -7.18969630e+05j,\n",
       "          2.91895445e+06 -1.14908891e+06j],\n",
       "       [ -3.11087230e+06 +5.06031607e+07j,\n",
       "         -5.41471817e+06 -1.60972924e+06j,\n",
       "         -6.38785879e+06 -3.62929379e+06j, ...,\n",
       "          2.39135077e+06 +8.13605962e+05j,\n",
       "          5.72663542e+06 +6.55892707e+03j,\n",
       "          8.10306234e+06 +1.40437540e+06j]])"
      ]
     },
     "execution_count": 11,
     "metadata": {},
     "output_type": "execute_result"
    }
   ],
   "source": [
    "f"
   ]
  },
  {
   "cell_type": "code",
   "execution_count": 12,
   "metadata": {
    "collapsed": true
   },
   "outputs": [],
   "source": [
    "img = cv2.imread('moria.jpg',0)\n",
    "rows, cols = img.shape\n",
    "crow,ccol = rows/2 , cols/2\n",
    "\n",
    "# create a mask first, center square is 1, remaining all zeros\n",
    "mask = np.zeros((rows,cols,2),np.uint8)\n",
    "mask[crow-200:crow+200, ccol-200:ccol+200] = 1\n",
    "\n",
    "# apply mask and inverse DFT\n",
    "fshift = dft_shift*mask\n",
    "f_ishift = np.fft.ifftshift(fshift)\n",
    "img_back = cv2.idft(f_ishift)\n",
    "img_back = cv2.magnitude(img_back[:,:,0],img_back[:,:,1])\n",
    "\n",
    "plt.subplot(121),plt.imshow(img, cmap = 'gray')\n",
    "plt.title('Input Image'), plt.xticks([]), plt.yticks([])\n",
    "plt.subplot(122),plt.imshow(img_back, cmap = 'gray')\n",
    "plt.title('Magnitude Spectrum'), plt.xticks([]), plt.yticks([])\n",
    "plt.show()"
   ]
  },
  {
   "cell_type": "code",
   "execution_count": 13,
   "metadata": {
    "collapsed": false
   },
   "outputs": [
    {
     "data": {
      "text/plain": [
       "True"
      ]
     },
     "execution_count": 13,
     "metadata": {},
     "output_type": "execute_result"
    }
   ],
   "source": [
    "cv2.imwrite('img_back.jpg', img_back)"
   ]
  },
  {
   "cell_type": "code",
   "execution_count": 35,
   "metadata": {
    "collapsed": false
   },
   "outputs": [],
   "source": [
    "img = cv2.imread('moria2.jpg',0)\n",
    "rows, cols = img.shape\n",
    "crow,ccol = rows/2 , cols/2\n",
    "\n",
    "dft = cv2.dft(np.float32(img),flags = cv2.DFT_COMPLEX_OUTPUT)\n",
    "dft_shift = np.fft.fftshift(dft)\n",
    "\n",
    "\n",
    "# create a mask first, center square is 1, remaining all zeros\n",
    "mask = np.zeros((rows,cols,2),np.uint8)\n",
    "mask[crow-150:crow+150, ccol-150:ccol+150] = 1\n",
    "\n",
    "# apply mask and inverse DFT\n",
    "fshift = dft_shift*mask\n",
    "f_ishift = np.fft.ifftshift(fshift)\n",
    "img_back = cv2.idft(f_ishift)\n",
    "img_back = cv2.magnitude(img_back[:,:,0],img_back[:,:,1])\n",
    "\n",
    "plt.subplot(121),plt.imshow(img, cmap = 'gray')\n",
    "plt.title('Input Image'), plt.xticks([]), plt.yticks([])\n",
    "plt.subplot(122),plt.imshow(img_back, cmap = 'gray')\n",
    "plt.title('Magnitude Spectrum'), plt.xticks([]), plt.yticks([])\n",
    "plt.show()"
   ]
  },
  {
   "cell_type": "code",
   "execution_count": 34,
   "metadata": {
    "collapsed": true
   },
   "outputs": [],
   "source": [
    "img = cv2.imread('moria2.jpg',0)\n",
    "rows, cols = img.shape\n",
    "crow,ccol = rows/2 , cols/2\n",
    "\n",
    "dft = cv2.dft(np.float32(img),flags = cv2.DFT_COMPLEX_OUTPUT)\n",
    "dft_shift = np.fft.fftshift(dft)\n",
    "\n",
    "\n",
    "# create a mask first, center square is 1, remaining all zeros\n",
    "mask = np.zeros((rows,cols,2),np.uint8)\n",
    "mask[crow-150:crow+150, ccol-150:ccol+150] = 1\n",
    "\n",
    "# apply mask and inverse DFT\n",
    "fshift = dft_shift*mask\n",
    "f_ishift = np.fft.ifftshift(fshift)\n",
    "img_back = cv2.idft(f_ishift)\n",
    "img_back = cv2.magnitude(img_back[:,:,0],img_back[:,:,1])\n",
    "\n",
    "cv2.namedWindow('img', cv2.WINDOW_NORMAL)\n",
    "cv2.namedWindow('img_back', cv2.WINDOW_NORMAL)\n",
    "cv2.imshow('img',img)\n",
    "cv2.imshow('img_back',img_back)\n",
    "if cv2.waitKey(0):\n",
    "    cv2.destroyAllWindows()"
   ]
  },
  {
   "cell_type": "code",
   "execution_count": 38,
   "metadata": {
    "collapsed": true
   },
   "outputs": [],
   "source": [
    "img = cv2.imread('moria2.jpg',0)\n",
    "rows, cols = img.shape\n",
    "crow,ccol = rows/2 , cols/2\n",
    "\n",
    "dft = cv2.dft(np.float32(img),flags = cv2.DFT_COMPLEX_OUTPUT)\n",
    "dft_shift = np.fft.fftshift(dft)\n",
    "\n",
    "\n",
    "# create a mask first, center square is 1, remaining all zeros\n",
    "mask = np.zeros((rows,cols,2),np.uint8)\n",
    "mask[crow-150:crow+150, ccol-150:ccol+150] = 1\n",
    "\n",
    "# apply mask and inverse DFT\n",
    "fshift = dft_shift*mask\n",
    "f_ishift = np.fft.ifftshift(fshift)\n",
    "img_back = cv2.idft(f_ishift)\n",
    "img_back = cv2.magnitude(img_back[:,:,0],img_back[:,:,1])\n",
    "\n",
    "plt.subplot(111),plt.imshow(img_back, cmap = 'gray')\n",
    "plt.title('Magnitude Spectrum'), plt.xticks([]), plt.yticks([])\n",
    "plt.show()\n",
    "\n",
    "plt.subplot(111),plt.imshow(img, cmap = 'gray')\n",
    "plt.title('Input Image'), plt.xticks([]), plt.yticks([])\n",
    "plt.show()"
   ]
  },
  {
   "cell_type": "code",
   "execution_count": 34,
   "metadata": {
    "collapsed": false
   },
   "outputs": [],
   "source": [
    "import cv2\n",
    "import numpy as np\n",
    "from matplotlib import pyplot as plt\n",
    "\n",
    "img = cv2.imread('moria2.jpg')\n",
    "img = img[:,:,::-1]\n",
    "plt.subplot(121),plt.imshow(img, cmap = 'gray')\n",
    "plt.title('Input Image'), plt.xticks([]), plt.yticks([])\n",
    "\n",
    "rows, cols = img[:,:,0].shape\n",
    "crow,ccol = rows/2 , cols/2\n",
    "\n",
    "# create a mask first, center square is 1, remaining all zeros\n",
    "\n",
    "img_back=img\n",
    "colorimg=[img_back[:,:,0],img_back[:,:,1],img_back[:,:,2]]\n",
    "i=0\n",
    "for block in colorimg:\n",
    "    mask = np.zeros((rows,cols,2),np.uint8)\n",
    "    mask[crow-200:crow+200, ccol-200:ccol+200] = 1\n",
    "    dft = cv2.dft(np.float32(block),flags = cv2.DFT_COMPLEX_OUTPUT)\n",
    "    dft_shift = np.fft.fftshift(dft)\n",
    "    fshift = dft_shift*mask\n",
    "    f_ishift = np.fft.ifftshift(fshift)\n",
    "    block = cv2.idft(f_ishift)\n",
    "    block = cv2.magnitude(block[:,:,0],block[:,:,1])\n",
    "    img_back[:,:,i]=block\n",
    "    i +=1\n",
    "\n",
    "plt.subplot(122),plt.imshow(img_back, cmap = 'gray')\n",
    "plt.title('Magnitude Spectrum'), plt.xticks([]), plt.yticks([])\n",
    "plt.show()"
   ]
  },
  {
   "cell_type": "code",
   "execution_count": 6,
   "metadata": {
    "collapsed": false
   },
   "outputs": [
    {
     "data": {
      "text/plain": [
       "(2160L, 2880L)"
      ]
     },
     "execution_count": 6,
     "metadata": {},
     "output_type": "execute_result"
    }
   ],
   "source": [
    "import cv2\n",
    "import numpy as np\n",
    "from matplotlib import pyplot as plt\n",
    "\n",
    "img = cv2.imread('moria2.jpg')\n",
    "img[:,:,0].shape"
   ]
  },
  {
   "cell_type": "code",
   "execution_count": 12,
   "metadata": {
    "collapsed": false
   },
   "outputs": [
    {
     "data": {
      "text/plain": [
       "(2160L, 2880L)"
      ]
     },
     "execution_count": 12,
     "metadata": {},
     "output_type": "execute_result"
    }
   ],
   "source": [
    "colorimg[0].shape"
   ]
  },
  {
   "cell_type": "code",
   "execution_count": 13,
   "metadata": {
    "collapsed": false
   },
   "outputs": [
    {
     "data": {
      "text/plain": [
       "(2160L, 2880L, 3L)"
      ]
     },
     "execution_count": 13,
     "metadata": {},
     "output_type": "execute_result"
    }
   ],
   "source": [
    "img_back.shape"
   ]
  },
  {
   "cell_type": "code",
   "execution_count": 14,
   "metadata": {
    "collapsed": false
   },
   "outputs": [
    {
     "data": {
      "text/plain": [
       "array([[169, 163, 148, ..., 174, 170, 169],\n",
       "       [167, 160, 147, ..., 174, 170, 169],\n",
       "       [165, 157, 145, ..., 174, 169, 168],\n",
       "       ..., \n",
       "       [113, 114, 115, ..., 119, 117, 117],\n",
       "       [113, 114, 115, ..., 124, 123, 123],\n",
       "       [113, 114, 115, ..., 126, 126, 127]], dtype=uint8)"
      ]
     },
     "execution_count": 14,
     "metadata": {},
     "output_type": "execute_result"
    }
   ],
   "source": [
    "colorimg[0]"
   ]
  },
  {
   "cell_type": "code",
   "execution_count": 15,
   "metadata": {
    "collapsed": false
   },
   "outputs": [
    {
     "data": {
      "text/plain": [
       "array([[[169, 116,  65],\n",
       "        [163, 110,  60],\n",
       "        [148,  95,  52],\n",
       "        ..., \n",
       "        [174, 193, 174],\n",
       "        [170, 189, 168],\n",
       "        [169, 188, 167]],\n",
       "\n",
       "       [[167, 115,  62],\n",
       "        [160, 109,  59],\n",
       "        [147,  94,  51],\n",
       "        ..., \n",
       "        [174, 193, 174],\n",
       "        [170, 189, 168],\n",
       "        [169, 188, 167]],\n",
       "\n",
       "       [[165, 113,  60],\n",
       "        [157, 106,  56],\n",
       "        [145,  94,  51],\n",
       "        ..., \n",
       "        [174, 193, 174],\n",
       "        [169, 188, 167],\n",
       "        [168, 187, 166]],\n",
       "\n",
       "       ..., \n",
       "       [[113,  67,  86],\n",
       "        [114,  69,  86],\n",
       "        [115,  70,  87],\n",
       "        ..., \n",
       "        [119, 129, 123],\n",
       "        [117, 124, 119],\n",
       "        [117, 123, 118]],\n",
       "\n",
       "       [[113,  68,  85],\n",
       "        [114,  69,  86],\n",
       "        [115,  70,  87],\n",
       "        ..., \n",
       "        [124, 130, 125],\n",
       "        [123, 125, 119],\n",
       "        [123, 125, 119]],\n",
       "\n",
       "       [[113,  68,  85],\n",
       "        [114,  69,  86],\n",
       "        [115,  70,  86],\n",
       "        ..., \n",
       "        [126, 130, 124],\n",
       "        [126, 126, 120],\n",
       "        [127, 124, 119]]], dtype=uint8)"
      ]
     },
     "execution_count": 15,
     "metadata": {},
     "output_type": "execute_result"
    }
   ],
   "source": [
    "img_back"
   ]
  },
  {
   "cell_type": "code",
   "execution_count": 16,
   "metadata": {
    "collapsed": false
   },
   "outputs": [
    {
     "data": {
      "text/plain": [
       "array([[116, 110,  95, ..., 193, 189, 188],\n",
       "       [115, 109,  94, ..., 193, 189, 188],\n",
       "       [113, 106,  94, ..., 193, 188, 187],\n",
       "       ..., \n",
       "       [ 67,  69,  70, ..., 129, 124, 123],\n",
       "       [ 68,  69,  70, ..., 130, 125, 125],\n",
       "       [ 68,  69,  70, ..., 130, 126, 124]], dtype=uint8)"
      ]
     },
     "execution_count": 16,
     "metadata": {},
     "output_type": "execute_result"
    }
   ],
   "source": [
    "colorimg[1]"
   ]
  },
  {
   "cell_type": "code",
   "execution_count": 17,
   "metadata": {
    "collapsed": false
   },
   "outputs": [
    {
     "data": {
      "text/plain": [
       "array([[[169, 116,  65],\n",
       "        [163, 110,  60],\n",
       "        [148,  95,  52],\n",
       "        ..., \n",
       "        [174, 193, 174],\n",
       "        [170, 189, 168],\n",
       "        [169, 188, 167]],\n",
       "\n",
       "       [[167, 115,  62],\n",
       "        [160, 109,  59],\n",
       "        [147,  94,  51],\n",
       "        ..., \n",
       "        [174, 193, 174],\n",
       "        [170, 189, 168],\n",
       "        [169, 188, 167]],\n",
       "\n",
       "       [[165, 113,  60],\n",
       "        [157, 106,  56],\n",
       "        [145,  94,  51],\n",
       "        ..., \n",
       "        [174, 193, 174],\n",
       "        [169, 188, 167],\n",
       "        [168, 187, 166]],\n",
       "\n",
       "       ..., \n",
       "       [[113,  67,  86],\n",
       "        [114,  69,  86],\n",
       "        [115,  70,  87],\n",
       "        ..., \n",
       "        [119, 129, 123],\n",
       "        [117, 124, 119],\n",
       "        [117, 123, 118]],\n",
       "\n",
       "       [[113,  68,  85],\n",
       "        [114,  69,  86],\n",
       "        [115,  70,  87],\n",
       "        ..., \n",
       "        [124, 130, 125],\n",
       "        [123, 125, 119],\n",
       "        [123, 125, 119]],\n",
       "\n",
       "       [[113,  68,  85],\n",
       "        [114,  69,  86],\n",
       "        [115,  70,  86],\n",
       "        ..., \n",
       "        [126, 130, 124],\n",
       "        [126, 126, 120],\n",
       "        [127, 124, 119]]], dtype=uint8)"
      ]
     },
     "execution_count": 17,
     "metadata": {},
     "output_type": "execute_result"
    }
   ],
   "source": [
    "img"
   ]
  },
  {
   "cell_type": "code",
   "execution_count": null,
   "metadata": {
    "collapsed": true
   },
   "outputs": [],
   "source": []
  }
 ],
 "metadata": {
  "anaconda-cloud": {},
  "kernelspec": {
   "display_name": "Python [Root]",
   "language": "python",
   "name": "Python [Root]"
  },
  "language_info": {
   "codemirror_mode": {
    "name": "ipython",
    "version": 2
   },
   "file_extension": ".py",
   "mimetype": "text/x-python",
   "name": "python",
   "nbconvert_exporter": "python",
   "pygments_lexer": "ipython2",
   "version": "2.7.12"
  }
 },
 "nbformat": 4,
 "nbformat_minor": 0
}
